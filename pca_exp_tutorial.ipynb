{
 "cells": [
  {
   "cell_type": "markdown",
   "metadata": {},
   "source": [
    "# PCA_Exp tutorial\n",
    "\n",
    "This tutorial teaches how to use, and explains basic functionality of pca_exp package. The main task of pca_exp is to take a set of different experimental measurements, preprocess them, perform principal component analysis (PCA) and present the result in a user friendly format. Let's start from the quick explanation of PCA and why it is useful in analysis of experimental data."
   ]
  },
  {
   "cell_type": "markdown",
   "metadata": {},
   "source": [
    "## PCA \n",
    "\n",
    "Let's suppose that our experimental measurements look as follows:\n",
    "\n",
    "\n",
    "There is a visible change of behaviour at some parameter value $T$, but we are not exactly sure where. Principal component analysis will allow us to find the most common deviations from the average of these curves (presented as a dashed line), called principal components (PC). By looking at the projections of experimental measurements onto different PCs, and how those projections differ with parameter $T$, we will be able to better understand the transition seen on figure above.\n",
    "\n",
    "First, we should import required modules:"
   ]
  },
  {
   "cell_type": "code",
   "execution_count": 6,
   "metadata": {},
   "outputs": [],
   "source": [
    "import numpy as np\n",
    "import matplotlib.pyplot as plt\n",
    "from pca_exp.data_handler import DataHandler\n",
    "from pca_exp.pca_machine import PCAMachine"
   ]
  },
  {
   "cell_type": "markdown",
   "metadata": {},
   "source": [
    "We imported two important classes: \"DataHandler\" loads, stores and preprocess the experimental measurement data, and \"PCAMachine\" is responsible for performing PCA and showing the results.\n",
    "\n",
    "The data on figure 1 should be in your working directory in the folder \"exp_data_example\". Each textfile in that folder correspond to different measurement and it has folowing format (in textfiles there are no headers):\n",
    "\n",
    "|X|Y|ErrorY|\n",
    "|---|---|---|\n",
    "|$x_1$|$y_1$|$ey_1$|\n",
    "|$x_2$|$y_2$|$ey_2$|\n",
    "|...|...|...|\n",
    "|$x_N$|$y_N$|$ey_N$|\n",
    "\n"
   ]
  },
  {
   "cell_type": "markdown",
   "metadata": {},
   "source": [
    "\"DataHandler\" class can be used to load the textfiles if they are in similar format as the above. First, let's create instance of the class:"
   ]
  },
  {
   "cell_type": "code",
   "execution_count": null,
   "metadata": {},
   "outputs": [],
   "source": [
    "dh = DataHandler()"
   ]
  },
  {
   "cell_type": "markdown",
   "metadata": {},
   "source": [
    "The class stores the data in its member \"batches\". To load all the data from \"exp_data_example\" folder we need to define few parameters:"
   ]
  },
  {
   "cell_type": "code",
   "execution_count": 7,
   "metadata": {},
   "outputs": [],
   "source": [
    "loc = './exp_data_example/'            # loc specifies the location of textfiles\n",
    "\n",
    "prenum = 'ede'                         # the class assumes that names of the textfiles in the folder \n",
    "stsp = (0, 9)                          # have form \"prenum(NUM)ext\" where NUM runs through integer numbers\n",
    "ext = '.txt'                           # from stsp[0] to stsp[1]."
   ]
  },
  {
   "cell_type": "markdown",
   "metadata": {},
   "source": [
    "There are some additional options to consider loading the files (changing delimiter, skiping first rows etc.) but this is enough for this tutorial (for more options check data_handler.py). Loading the files require only one call: "
   ]
  },
  {
   "cell_type": "code",
   "execution_count": null,
   "metadata": {},
   "outputs": [],
   "source": [
    "dh.load_batch(stsp=stsp, loc=loc, prenum=prenum, ext=ext)"
   ]
  },
  {
   "cell_type": "markdown",
   "metadata": {},
   "source": [
    "We can check that we loaded files properly by displaying them directly:"
   ]
  },
  {
   "cell_type": "code",
   "execution_count": null,
   "metadata": {},
   "outputs": [],
   "source": [
    "plt.figure(1)\n",
    "plt.plot(dh.batches[0][:,:,0], dh.batches[0][:,:,1])\n",
    "plt.show()"
   ]
  },
  {
   "cell_type": "markdown",
   "metadata": {},
   "source": [
    "Looking at the curves above, we can see that the error seem to grow at later times. Useful tool in preprocessing such data is to re-bin the x-windows, so that each new bin captures approximately the same amount of standard deviation. This is done automatically by"
   ]
  },
  {
   "cell_type": "code",
   "execution_count": 9,
   "metadata": {},
   "outputs": [
    {
     "ename": "NameError",
     "evalue": "name 'dh' is not defined",
     "output_type": "error",
     "traceback": [
      "\u001b[0;31m---------------------------------------------------------------------------\u001b[0m",
      "\u001b[0;31mNameError\u001b[0m                                 Traceback (most recent call last)",
      "\u001b[0;32m<ipython-input-9-68bc74383750>\u001b[0m in \u001b[0;36m<module>\u001b[0;34m\u001b[0m\n\u001b[0;32m----> 1\u001b[0;31m \u001b[0mdh\u001b[0m\u001b[0;34m.\u001b[0m\u001b[0mfilter_data\u001b[0m\u001b[0;34m(\u001b[0m\u001b[0;34m)\u001b[0m\u001b[0;34m\u001b[0m\u001b[0;34m\u001b[0m\u001b[0m\n\u001b[0m",
      "\u001b[0;31mNameError\u001b[0m: name 'dh' is not defined"
     ]
    }
   ],
   "source": [
    "dh.filter_data()"
   ]
  },
  {
   "cell_type": "markdown",
   "metadata": {},
   "source": [
    "You can see how it changed the data by plotting measurements again (on cell above). The last command for \"DataHandler\" is to prepare the data in right format using \"prepare_XYE_PCA\" function:"
   ]
  },
  {
   "cell_type": "code",
   "execution_count": null,
   "metadata": {},
   "outputs": [],
   "source": [
    "dh.prepare_XYE_PCA()"
   ]
  },
  {
   "cell_type": "markdown",
   "metadata": {},
   "source": []
  }
 ],
 "metadata": {
  "kernelspec": {
   "display_name": "Python 3",
   "language": "python",
   "name": "python3"
  },
  "language_info": {
   "codemirror_mode": {
    "name": "ipython",
    "version": 3
   },
   "file_extension": ".py",
   "mimetype": "text/x-python",
   "name": "python",
   "nbconvert_exporter": "python",
   "pygments_lexer": "ipython3",
   "version": "3.8.3"
  }
 },
 "nbformat": 4,
 "nbformat_minor": 4
}
