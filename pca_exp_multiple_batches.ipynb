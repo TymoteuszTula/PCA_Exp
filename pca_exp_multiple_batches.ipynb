{
 "cells": [
  {
   "cell_type": "markdown",
   "id": "31d9a140",
   "metadata": {},
   "source": [
    "# PCA_Exp with multiple batches\n",
    "\n",
    "Tutorial on how to use PCA_Exp package to load and analyse multiple batches of data. With explanation on cumulative PC scores and error calculations."
   ]
  },
  {
   "cell_type": "markdown",
   "id": "08817a41",
   "metadata": {},
   "source": [
    "Let's suppose that we have two batches of data from different datasets:\n",
    "\n",
    "![title](figure/Figure_MB1.png)\n",
    "\n",
    "![title](figure/Figure_MB2.png)\n",
    "\n",
    "The first set of data goes from 0 to 12 of x value and the second ranges from 0 to 16. Also, there are differences in intervals between different values of x (Each measurement in first batch has 300 data points and in the second: 600). The error also varies differently for each batch of measurement. In order for PCA of those two batches to work, the x values have to be the same, and if that is not possible, some approximation has to be performed. That includes cutting and averaging data that has more range and more data points (batch 2 in this example).\n",
    "\n",
    "Let's start by importing relevant modules and loading batches:"
   ]
  },
  {
   "cell_type": "code",
   "execution_count": null,
   "id": "6449f9c5",
   "metadata": {},
   "outputs": [],
   "source": [
    "import numpy as np\n",
    "import matplotlib.pyplot as plt\n",
    "from pca_exp.data_handler import DataHandler\n",
    "from pca_exp.pca_machine import PCAMachine"
   ]
  },
  {
   "cell_type": "code",
   "execution_count": null,
   "id": "be85386d",
   "metadata": {},
   "outputs": [],
   "source": [
    "dh = DataHandler()\n",
    "\n",
    "loc1 = \"./exp_data_example/multiple_batches/batch1/\"\n",
    "loc2 = \"./exp_data_example/multiple_batches/batch2/\"\n",
    "\n",
    "stsp1 = (0,9)\n",
    "stsp2 = (0,14)\n",
    "\n",
    "prenum = \"ede\"\n",
    "ext = \".txt\"\n",
    "\n",
    "dh.load_batch(stsp1, prenum, ext, loc1, name=\"batch1\")\n",
    "dh.load_batch(stsp2, prenum, ext, loc2, name=\"batch2\")"
   ]
  },
  {
   "cell_type": "markdown",
   "id": "ce2fc903",
   "metadata": {},
   "source": [
    "The batches are loaded one after another and can be named. By default, the names are just numerical (\"1\", \"2\" and so on). Data can be manually sliced or using the built-in function, and the averaging is done by using \"bin_data\" function:"
   ]
  },
  {
   "cell_type": "code",
   "execution_count": null,
   "id": "78596090",
   "metadata": {},
   "outputs": [],
   "source": [
    "# Slicing\n",
    "dh.slice_batch(batch_ind=1, x_vals=(0, 12.1))\n",
    "\n",
    "# Averaging second batch\n",
    "x_0 = dh.batches[0][:,0,0]                          # The reference x bins\n",
    "\n",
    "dh.bin_data(x_0, batch_ind=[1])"
   ]
  },
  {
   "cell_type": "markdown",
   "id": "4abd96fd",
   "metadata": {},
   "source": [
    "The reference \"x_0\" bins are taken from batch1 because that is the batch with fewer bins initially. If we plot the second batch after slicing and averaging:"
   ]
  },
  {
   "cell_type": "code",
   "execution_count": null,
   "id": "39e74343",
   "metadata": {},
   "outputs": [],
   "source": [
    "fig1, axb2 = plt.subplots(1,1)\n",
    "axb2.plot(dh.batches[1][:,0,0], dh.batches[1][:,:,1])\n",
    "axb2.set_xlabel(\"x\")\n",
    "axb2.set_ylabel(\"y\")\n",
    "axb2.grid()\n",
    "plt.show()"
   ]
  },
  {
   "cell_type": "markdown",
   "id": "730fd132",
   "metadata": {},
   "source": [
    "The range is now correct and the functions look similar to those in previous figure.\n",
    "\n",
    "Principal component analysis is performed in the same way as with single batch:"
   ]
  },
  {
   "cell_type": "code",
   "execution_count": null,
   "id": "aab4cd87",
   "metadata": {},
   "outputs": [],
   "source": [
    "dh.prepare_XYE_PCA(batch_ind=[0,1], preserve_batch_info=True)\n",
    "\n",
    "pca_machine = PCAMachine(dh)\n",
    "\n",
    "pca_machine.perform_pca()"
   ]
  },
  {
   "cell_type": "markdown",
   "id": "ce1027ea",
   "metadata": {},
   "source": [
    "To retrieve PCA scores from specific batch we can call \"return_scores_of_given_batch\" method of PCAMachine class. Batches can be identified by their names or the indices (which correspond to order of loading batches)."
   ]
  },
  {
   "cell_type": "code",
   "execution_count": null,
   "id": "1ad458cc",
   "metadata": {},
   "outputs": [],
   "source": [
    "# Retrieve score by name\n",
    "pc_scores_batch1 = pca_machine.return_scores_of_given_batch(batch_name=\"batch1\")\n",
    "# Retrieve score by index\n",
    "pc_scores_batch2 = pca_machine.return_scores_of_given_batch(batch_ind=1)"
   ]
  },
  {
   "cell_type": "markdown",
   "id": "56df68cf",
   "metadata": {},
   "source": [
    "The code now calculates the cumulative principal component scores (for definition check [1]) and error of principal component scores [2]. By default, it returns the cPCS and error as dictionaries with keys pointing to specific batch."
   ]
  },
  {
   "cell_type": "code",
   "execution_count": null,
   "id": "94b41a2e",
   "metadata": {},
   "outputs": [],
   "source": [
    "cPCS = pca_machine.calculate_cPCS()\n",
    "errors = pca_machine.calculate_pc_scores_error()"
   ]
  },
  {
   "cell_type": "code",
   "execution_count": null,
   "id": "afa68a01",
   "metadata": {},
   "outputs": [],
   "source": [
    "# Cumulative principal component scores for both batches\n",
    "fig2, axscpcs = plt.subplots(1,2)\n",
    "axscpcs[0].bar(np.arange(1,11), cPCS[\"batch1\"][:10], color=['r', 'b', 'g'] + 7 * ['grey'])\n",
    "axscpcs[1].bar(np.arange(1,11), cPCS[\"batch2\"][:10], color=['r', 'b', 'g'] + 7 * ['grey'])\n",
    "axscpcs[0].set_xticks([1, 2, 3, 4, 5, 6, 7, 8, 9, 10])\n",
    "axscpcs[0].set_xticklabels(['1st PC', '2nd PC', '3rd PC', '4th PC', '5th PC', \n",
    "                        '6th PC', '7th PC', '8th PC', '9th PC', '10th PC'],\n",
    "                        rotation=45, ha='right', rotation_mode=\"anchor\")\n",
    "axscpcs[1].set_xticks([1, 2, 3, 4, 5, 6, 7, 8, 9, 10])\n",
    "axscpcs[1].set_xticklabels(['1st PC', '2nd PC', '3rd PC', '4th PC', '5th PC', \n",
    "                        '6th PC', '7th PC', '8th PC', '9th PC', '10th PC'],\n",
    "                        rotation=45, ha='right', rotation_mode=\"anchor\")\n",
    "axscpcs[0].set_title(\"CPCS - first batch\")\n",
    "axscpcs[1].set_title(\"CPCS - second batch\")\n",
    "plt.show()"
   ]
  },
  {
   "cell_type": "code",
   "execution_count": null,
   "id": "5610db53",
   "metadata": {},
   "outputs": [],
   "source": [
    "# Principal component scores with errors\n",
    "T1 = np.arange(0.1, 1.1, 0.1)\n",
    "T2 = np.arange(0.1, 1.6, 0.1)\n",
    "\n",
    "fig3, axserr = plt.subplots(3,2)\n",
    "\n",
    "axserr[0,0].scatter(T1, pc_scores_batch1[0,:], c='r',marker='s',\n",
    "                                edgecolors='r', zorder=10)\n",
    "axserr[0,0].errorbar(T1, pc_scores_batch1[0,:], errors[\"batch1\"][0,:],\n",
    "                    ecolor='k', marker=None, capsize=4, ls=\"\", zorder=3)\n",
    "axserr[1,0].scatter(T1, pc_scores_batch1[1,:], c='b',marker='s',\n",
    "                                edgecolors='b', zorder=10)\n",
    "axserr[1,0].errorbar(T1, pc_scores_batch1[1,:], errors[\"batch1\"][1,:],\n",
    "                    ecolor='k', marker=None, capsize=4, ls=\"\", zorder=3)\n",
    "axserr[2,0].scatter(T1, pc_scores_batch1[2,:], c='g',marker='s',\n",
    "                                edgecolors='g', zorder=10)\n",
    "axserr[2,0].errorbar(T1, pc_scores_batch1[2,:], errors[\"batch1\"][2,:],\n",
    "                    ecolor='k', marker=None, capsize=4, ls=\"\", zorder=3)\n",
    "\n",
    "axserr[0,1].scatter(T2, pc_scores_batch2[0,:], c='r',marker='s',\n",
    "                                edgecolors='r', zorder=10)\n",
    "axserr[0,1].errorbar(T2, pc_scores_batch2[0,:], errors[\"batch2\"][0,:],\n",
    "                    ecolor='k', marker=None, capsize=4, ls=\"\", zorder=3)\n",
    "axserr[1,1].scatter(T2, pc_scores_batch2[1,:], c='b',marker='s',\n",
    "                                edgecolors='b', zorder=10)\n",
    "axserr[1,1].errorbar(T2, pc_scores_batch2[1,:], errors[\"batch2\"][1,:],\n",
    "                    ecolor='k', marker=None, capsize=4, ls=\"\", zorder=3)\n",
    "axserr[2,1].scatter(T2, pc_scores_batch2[2,:], c='g',marker='s',\n",
    "                                edgecolors='g', zorder=10)\n",
    "axserr[2,1].errorbar(T2, pc_scores_batch2[2,:], errors[\"batch2\"][2,:],\n",
    "                    ecolor='k', marker=None, capsize=4, ls=\"\", zorder=3)\n",
    "\n",
    "plt.show()"
   ]
  }
 ],
 "metadata": {
  "kernelspec": {
   "display_name": "Python 3 (ipykernel)",
   "language": "python",
   "name": "python3"
  },
  "language_info": {
   "codemirror_mode": {
    "name": "ipython",
    "version": 3
   },
   "file_extension": ".py",
   "mimetype": "text/x-python",
   "name": "python",
   "nbconvert_exporter": "python",
   "pygments_lexer": "ipython3",
   "version": "3.9.7"
  }
 },
 "nbformat": 4,
 "nbformat_minor": 5
}
